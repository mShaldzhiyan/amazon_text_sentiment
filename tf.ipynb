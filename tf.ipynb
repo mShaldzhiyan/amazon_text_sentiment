{
 "cells": [
  {
   "cell_type": "code",
   "execution_count": 39,
   "metadata": {},
   "outputs": [],
   "source": [
    "from sklearn.metrics import accuracy_score\n",
    "import tensorflow as tf\n",
    "from tensorflow.keras import layers\n",
    "from tensorflow import keras\n",
    "from tqdm import tqdm\n",
    "import pandas as pd\n",
    "import pickle"
   ]
  },
  {
   "cell_type": "code",
   "execution_count": 15,
   "metadata": {},
   "outputs": [],
   "source": [
    "with open('dataset/train.ft.txt', 'r', encoding='utf8') as f:\n",
    "    txt = [a for a in f]"
   ]
  },
  {
   "cell_type": "code",
   "execution_count": 16,
   "metadata": {},
   "outputs": [],
   "source": [
    "df = pd.DataFrame()\n",
    "df['text'] = txt\n",
    "df['label'], df['text'] = df.text.apply(lambda x: x.split(' ', maxsplit=1)[0]), df.text.apply(lambda x: x.split(' ', maxsplit=1)[1])\n",
    "df.label = df.label.map({'__label__2':1, '__label__1':0})"
   ]
  },
  {
   "cell_type": "code",
   "execution_count": 17,
   "metadata": {},
   "outputs": [],
   "source": [
    "df_train = df[0:3000000]\n",
    "df_valid = df[3000000:3300000]\n",
    "df_test = df[3300000:3600000]"
   ]
  },
  {
   "cell_type": "code",
   "execution_count": 18,
   "metadata": {},
   "outputs": [
    {
     "name": "stdout",
     "output_type": "stream",
     "text": [
      "Num GPUs Available:  1\n"
     ]
    }
   ],
   "source": [
    "print(\"Num GPUs Available: \", len(tf.config.list_physical_devices('GPU')))"
   ]
  },
  {
   "cell_type": "code",
   "execution_count": 19,
   "metadata": {},
   "outputs": [
    {
     "data": {
      "text/html": [
       "<div>\n",
       "<style scoped>\n",
       "    .dataframe tbody tr th:only-of-type {\n",
       "        vertical-align: middle;\n",
       "    }\n",
       "\n",
       "    .dataframe tbody tr th {\n",
       "        vertical-align: top;\n",
       "    }\n",
       "\n",
       "    .dataframe thead th {\n",
       "        text-align: right;\n",
       "    }\n",
       "</style>\n",
       "<table border=\"1\" class=\"dataframe\">\n",
       "  <thead>\n",
       "    <tr style=\"text-align: right;\">\n",
       "      <th></th>\n",
       "      <th>text</th>\n",
       "      <th>label</th>\n",
       "    </tr>\n",
       "  </thead>\n",
       "  <tbody>\n",
       "    <tr>\n",
       "      <th>0</th>\n",
       "      <td>Stuning even for the non-gamer: This sound tra...</td>\n",
       "      <td>1</td>\n",
       "    </tr>\n",
       "    <tr>\n",
       "      <th>1</th>\n",
       "      <td>The best soundtrack ever to anything.: I'm rea...</td>\n",
       "      <td>1</td>\n",
       "    </tr>\n",
       "    <tr>\n",
       "      <th>2</th>\n",
       "      <td>Amazing!: This soundtrack is my favorite music...</td>\n",
       "      <td>1</td>\n",
       "    </tr>\n",
       "    <tr>\n",
       "      <th>3</th>\n",
       "      <td>Excellent Soundtrack: I truly like this soundt...</td>\n",
       "      <td>1</td>\n",
       "    </tr>\n",
       "    <tr>\n",
       "      <th>4</th>\n",
       "      <td>Remember, Pull Your Jaw Off The Floor After He...</td>\n",
       "      <td>1</td>\n",
       "    </tr>\n",
       "    <tr>\n",
       "      <th>...</th>\n",
       "      <td>...</td>\n",
       "      <td>...</td>\n",
       "    </tr>\n",
       "    <tr>\n",
       "      <th>2999995</th>\n",
       "      <td>Very nice!: Nice tool, worth every penny! I us...</td>\n",
       "      <td>1</td>\n",
       "    </tr>\n",
       "    <tr>\n",
       "      <th>2999996</th>\n",
       "      <td>the switch is junk: I have read other reviews ...</td>\n",
       "      <td>0</td>\n",
       "    </tr>\n",
       "    <tr>\n",
       "      <th>2999997</th>\n",
       "      <td>Great Tool: This is my first Dewalt, and I am ...</td>\n",
       "      <td>1</td>\n",
       "    </tr>\n",
       "    <tr>\n",
       "      <th>2999998</th>\n",
       "      <td>Don't expect much: The D26451 is a poor replac...</td>\n",
       "      <td>0</td>\n",
       "    </tr>\n",
       "    <tr>\n",
       "      <th>2999999</th>\n",
       "      <td>Noisy!: I've had an earlier model of this same...</td>\n",
       "      <td>0</td>\n",
       "    </tr>\n",
       "  </tbody>\n",
       "</table>\n",
       "<p>3000000 rows × 2 columns</p>\n",
       "</div>"
      ],
      "text/plain": [
       "                                                      text  label\n",
       "0        Stuning even for the non-gamer: This sound tra...      1\n",
       "1        The best soundtrack ever to anything.: I'm rea...      1\n",
       "2        Amazing!: This soundtrack is my favorite music...      1\n",
       "3        Excellent Soundtrack: I truly like this soundt...      1\n",
       "4        Remember, Pull Your Jaw Off The Floor After He...      1\n",
       "...                                                    ...    ...\n",
       "2999995  Very nice!: Nice tool, worth every penny! I us...      1\n",
       "2999996  the switch is junk: I have read other reviews ...      0\n",
       "2999997  Great Tool: This is my first Dewalt, and I am ...      1\n",
       "2999998  Don't expect much: The D26451 is a poor replac...      0\n",
       "2999999  Noisy!: I've had an earlier model of this same...      0\n",
       "\n",
       "[3000000 rows x 2 columns]"
      ]
     },
     "execution_count": 19,
     "metadata": {},
     "output_type": "execute_result"
    }
   ],
   "source": [
    "df_train"
   ]
  },
  {
   "cell_type": "code",
   "execution_count": 20,
   "metadata": {},
   "outputs": [],
   "source": [
    "def custom_standardization(input_data):\n",
    "  lowercase = tf.strings.lower(input_data)\n",
    "  return lowercase\n",
    "\n",
    "vocab_size = 10000\n",
    "sequence_length = 100\n",
    "\n",
    "vectorize_layer = layers.TextVectorization(\n",
    "    standardize=custom_standardization,\n",
    "    max_tokens=vocab_size,\n",
    "    output_mode='int',\n",
    "    output_sequence_length=sequence_length)"
   ]
  },
  {
   "cell_type": "code",
   "execution_count": 21,
   "metadata": {},
   "outputs": [],
   "source": [
    "VECTORIZE_LAYER_TRAIN = True\n",
    "\n",
    "if VECTORIZE_LAYER_TRAIN:\n",
    "    vectorize_layer.adapt(df_train.text.values)\n",
    "    with open('vocab.pkl', 'wb') as f:\n",
    "        pickle.dump(vectorize_layer.get_vocabulary(), f)\n",
    "else:\n",
    "    with open('vocab.pkl', 'rb') as f:\n",
    "        vocab = pickle.load(f)\n",
    "    vectorize_layer.set_vocabulary(vocab)\n"
   ]
  },
  {
   "cell_type": "code",
   "execution_count": 22,
   "metadata": {},
   "outputs": [],
   "source": [
    "embedding_dim=16\n",
    "embedding_layer = tf.keras.layers.Embedding(vocab_size, embedding_dim)"
   ]
  },
  {
   "cell_type": "code",
   "execution_count": 23,
   "metadata": {},
   "outputs": [],
   "source": [
    "model = tf.keras.Sequential([\n",
    "  vectorize_layer,\n",
    "  embedding_layer,\n",
    "  layers.LSTM(64, return_sequences=True),\n",
    "  layers.Conv1D(16, 3, activation='relu'),\n",
    "  layers.MaxPooling1D(),\n",
    "  layers.Conv1D(16, 3, activation='relu'),\n",
    "  layers.GlobalMaxPooling1D(),\n",
    "  layers.Dense(1)\n",
    "])"
   ]
  },
  {
   "cell_type": "code",
   "execution_count": 24,
   "metadata": {},
   "outputs": [],
   "source": [
    "model.compile(optimizer='adam',\n",
    "              loss=tf.keras.losses.BinaryCrossentropy(from_logits=True),\n",
    "              metrics=['accuracy'])"
   ]
  },
  {
   "cell_type": "code",
   "execution_count": 25,
   "metadata": {},
   "outputs": [],
   "source": [
    "EARLY_STOPPING = True\n",
    "if EARLY_STOPPING:\n",
    "    callbacks = [tf.keras.callbacks.EarlyStopping(monitor='loss', patience=3000, restore_best_weights = True)]\n",
    "else:\n",
    "    callbacks = []"
   ]
  },
  {
   "cell_type": "code",
   "execution_count": 33,
   "metadata": {},
   "outputs": [
    {
     "name": "stdout",
     "output_type": "stream",
     "text": [
      "Epoch 1/5\n",
      "93750/93750 [==============================] - 1909s 20ms/step - loss: 0.1256 - accuracy: 0.9523\n",
      "Epoch 2/5\n",
      "93750/93750 [==============================] - 1788s 19ms/step - loss: 0.1247 - accuracy: 0.9527\n",
      "Epoch 3/5\n",
      "93750/93750 [==============================] - 1635s 17ms/step - loss: 0.1240 - accuracy: 0.9529\n",
      "Epoch 4/5\n",
      "93750/93750 [==============================] - 1593s 17ms/step - loss: 0.1232 - accuracy: 0.9533\n",
      "Epoch 5/5\n",
      "93750/93750 [==============================] - 1596s 17ms/step - loss: 0.1226 - accuracy: 0.9535\n"
     ]
    }
   ],
   "source": [
    "with tf.device(\"/device:GPU:0\"):\n",
    "    model.fit(\n",
    "        df_train.text, df_train.label,\n",
    "        callbacks = callbacks,\n",
    "        epochs=5)"
   ]
  },
  {
   "cell_type": "code",
   "execution_count": 36,
   "metadata": {},
   "outputs": [],
   "source": [
    "valid_preds = model.predict(df_valid.text)\n",
    "valid_preds = [1 if (a > 0) else 0 for a in valid_preds ]"
   ]
  },
  {
   "cell_type": "code",
   "execution_count": 37,
   "metadata": {},
   "outputs": [
    {
     "data": {
      "text/plain": [
       "0.9427033333333333"
      ]
     },
     "execution_count": 37,
     "metadata": {},
     "output_type": "execute_result"
    }
   ],
   "source": [
    "accuracy_score(valid_preds, df_valid.label)\n",
    "#0.93881"
   ]
  }
 ],
 "metadata": {
  "kernelspec": {
   "display_name": "tf_gpu",
   "language": "python",
   "name": "python3"
  },
  "language_info": {
   "codemirror_mode": {
    "name": "ipython",
    "version": 3
   },
   "file_extension": ".py",
   "mimetype": "text/x-python",
   "name": "python",
   "nbconvert_exporter": "python",
   "pygments_lexer": "ipython3",
   "version": "3.9.15"
  },
  "orig_nbformat": 4,
  "vscode": {
   "interpreter": {
    "hash": "f3c623f6acdd19ab33df0479ab84ef2ba5ed62403b128c17015aa00765b31ae5"
   }
  }
 },
 "nbformat": 4,
 "nbformat_minor": 2
}
